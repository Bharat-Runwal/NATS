{
 "cells": [
  {
   "cell_type": "code",
   "execution_count": 87,
   "metadata": {},
   "outputs": [
    {
     "name": "stdout",
     "output_type": "stream",
     "text": [
      "\n",
      "(0 ,.,.) = \n",
      "  0  0  0  0\n",
      "  0  0  0  0\n",
      "  0  0  0  0\n",
      "\n",
      "(1 ,.,.) = \n",
      "  0  0  0  0\n",
      "  0  0  0  0\n",
      "  0  0  0  0\n",
      "[torch.FloatTensor of size 2x3x4]\n",
      "\n",
      "\n",
      "(0 ,.,.) = \n",
      "  0.8151  0.9198\n",
      "  0.4894  0.3037\n",
      "  0.1227  0.3677\n",
      "\n",
      "(1 ,.,.) = \n",
      "  0.2878  0.9483\n",
      "  0.0247  0.4827\n",
      "  0.8591  0.2216\n",
      "[torch.FloatTensor of size 2x3x2]\n",
      "\n",
      "\n",
      " 0  2\n",
      " 0  0\n",
      "[torch.LongTensor of size 2x2]\n",
      "\n",
      "\n",
      "(0 ,.,.) = \n",
      "  0\n",
      "  2\n",
      "\n",
      "(1 ,.,.) = \n",
      "  0\n",
      "  0\n",
      "[torch.LongTensor of size 2x2x1]\n",
      "\n",
      "\n",
      "(0 ,.,.) = \n",
      "  0  0  0  0\n",
      "  0  0  0  0\n",
      "\n",
      "(1 ,.,.) = \n",
      "  0  0  0  0\n",
      "  0  0  0  0\n",
      "[torch.FloatTensor of size 2x2x4]\n",
      "\n",
      "\n",
      "(0 ,.,.) = \n",
      "  1  0  0  0\n",
      "  0  0  1  0\n",
      "\n",
      "(1 ,.,.) = \n",
      "  1  0  0  0\n",
      "  1  0  0  0\n",
      "[torch.FloatTensor of size 2x2x4]\n",
      "\n"
     ]
    }
   ],
   "source": [
    "import torch\n",
    "\n",
    "y = torch.zeros(2, 3, 4)\n",
    "z = torch.rand(2, 3, 2)\n",
    "\n",
    "idx = torch.LongTensor(2, 2).zero_()\n",
    "idx[0, 1] = 2\n",
    "\n",
    "print y\n",
    "print z\n",
    "print idx\n",
    "\n",
    "print idx.unsqueeze(2)\n",
    "yhot = torch.FloatTensor(2, 2, 4).zero_()\n",
    "print yhot\n",
    "yhot = yhot.scatter_(2, idx.unsqueeze(2), 1.0)\n",
    "print yhot"
   ]
  },
  {
   "cell_type": "code",
   "execution_count": 88,
   "metadata": {},
   "outputs": [
    {
     "name": "stdout",
     "output_type": "stream",
     "text": [
      "\n",
      "(0 ,.,.) = \n",
      "  0.8151  0.9198\n",
      "  0.4894  0.3037\n",
      "  0.1227  0.3677\n",
      "\n",
      "(1 ,.,.) = \n",
      "  0.2878  0.9483\n",
      "  0.0247  0.4827\n",
      "  0.8591  0.2216\n",
      "[torch.FloatTensor of size 2x3x2]\n",
      "\n",
      "\n",
      "(0 ,.,.) = \n",
      "  0.8151  0.0000  0.9198  0.0000\n",
      "  0.4894  0.0000  0.3037  0.0000\n",
      "  0.1227  0.0000  0.3677  0.0000\n",
      "\n",
      "(1 ,.,.) = \n",
      "  1.2361  0.0000  0.0000  0.0000\n",
      "  0.5074  0.0000  0.0000  0.0000\n",
      "  1.0807  0.0000  0.0000  0.0000\n",
      "[torch.FloatTensor of size 2x3x4]\n",
      "\n"
     ]
    }
   ],
   "source": [
    "print z\n",
    "print torch.bmm(z, yhot)"
   ]
  },
  {
   "cell_type": "code",
   "execution_count": null,
   "metadata": {},
   "outputs": [],
   "source": []
  }
 ],
 "metadata": {
  "kernelspec": {
   "display_name": "Python 2",
   "language": "python",
   "name": "python2"
  },
  "language_info": {
   "codemirror_mode": {
    "name": "ipython",
    "version": 2
   },
   "file_extension": ".py",
   "mimetype": "text/x-python",
   "name": "python",
   "nbconvert_exporter": "python",
   "pygments_lexer": "ipython2",
   "version": "2.7.12"
  }
 },
 "nbformat": 4,
 "nbformat_minor": 2
}
