{
 "cells": [
  {
   "cell_type": "code",
   "execution_count": 1,
   "metadata": {},
   "outputs": [],
   "source": [
    "import glob\n",
    "import torch\n",
    "\n",
    "from data_utils import *"
   ]
  },
  {
   "cell_type": "code",
   "execution_count": 2,
   "metadata": {},
   "outputs": [
    {
     "name": "stdout",
     "output_type": "stream",
     "text": [
      "The vocabulary size: 22682\n"
     ]
    }
   ],
   "source": [
    "data_dir = '../sum_data/'\n",
    "file_vocab = 'cnn_vocab_abs.txt'\n",
    "file_corpus = 'cnn_abs.txt'\n",
    "batch_size = 64\n",
    "\n",
    "vocab2id, id2vocab = construct_vocab(data_dir+'/'+file_vocab)\n",
    "print 'The vocabulary size: {0}'.format(len(vocab2id))"
   ]
  },
  {
   "cell_type": "code",
   "execution_count": 23,
   "metadata": {},
   "outputs": [
    {
     "name": "stdout",
     "output_type": "stream",
     "text": [
      "81 19\n"
     ]
    },
    {
     "data": {
      "text/plain": [
       "(Variable containing:\n",
       "      0    275      9  ...       2      2      2\n",
       "      0  21688      3  ...       2      2      2\n",
       "      0     23     13  ...       2      2      2\n",
       "         ...            ⋱           ...         \n",
       "      0     23     13  ...       2      2      2\n",
       "      0    599   9139  ...       2      2      2\n",
       "      0      3  20048  ...       2      2      2\n",
       " [torch.LongTensor of size 64x81], Variable containing:\n",
       "      0   4266   6866  ...       2      2      2\n",
       "      0  18107  14786  ...       2      2      2\n",
       "      0    468   3462  ...       2      2      2\n",
       "         ...            ⋱           ...         \n",
       "      0  12395    241  ...       2      2      2\n",
       "      0   1977   5316  ...       2      2      2\n",
       "      0    893   6963  ...       2      2      2\n",
       " [torch.LongTensor of size 64x19], Variable containing:\n",
       "   4266   6866  14226  ...       2      2      2\n",
       "  18107  14786    429  ...       2      2      2\n",
       "    468   3462     21  ...       2      2      2\n",
       "         ...            ⋱           ...         \n",
       "  12395    241    853  ...       2      2      2\n",
       "   1977   5316     63  ...       2      2      2\n",
       "    893   6963    917  ...       2      2      2\n",
       " [torch.LongTensor of size 64x19])"
      ]
     },
     "execution_count": 23,
     "metadata": {},
     "output_type": "execute_result"
    }
   ],
   "source": [
    "def process_minibatch(batch_id, vocab2id, max_lens=[100, 20]):\n",
    "    \n",
    "    folder = 'batch_folder'\n",
    "    fkey = 'batch_'\n",
    "    file_ = folder + '/' + fkey + str(batch_id)\n",
    "    fp = open(file_, 'r')\n",
    "    src_arr = []\n",
    "    trg_arr = []\n",
    "    src_lens = []\n",
    "    trg_lens = []\n",
    "    for line in fp:\n",
    "        arr = re.split('<sec>', line[:-1])\n",
    "\n",
    "        dabs = re.split('\\s', arr[0])\n",
    "        dabs = filter(None, dabs)\n",
    "        dabs = ['<s>'] + dabs + ['</s>']\n",
    "        trg_lens.append(len(dabs))\n",
    "        dabs2id = [\n",
    "            vocab2id[wd] if wd in vocab2id\n",
    "            else vocab2id['<unk>']\n",
    "            for wd in dabs\n",
    "        ]\n",
    "        trg_arr.append(dabs2id)\n",
    "        \n",
    "        dart = re.split('\\s', arr[1])\n",
    "        dart = filter(None, dart)\n",
    "        dart = ['<s>'] + dart + ['</s>']\n",
    "        src_lens.append(len(dart))\n",
    "        dart2id = [\n",
    "            vocab2id[wd] if wd in vocab2id\n",
    "            else vocab2id['<unk>']\n",
    "            for wd in dart\n",
    "        ]\n",
    "        src_arr.append(dart2id)\n",
    "    fp.close()\n",
    "    \n",
    "    src_max_lens = max(src_lens) \n",
    "    if max_lens[0] < max(src_lens):\n",
    "        src_max_lens = max_lens[0]\n",
    "    trg_max_lens = max(trg_lens)\n",
    "    if max_lens[1] < max(trg_lens):\n",
    "        trg_max_lens = max(trg_lens)\n",
    "        \n",
    "    print src_max_lens, trg_max_lens\n",
    "    \n",
    "    src_arr = [itm[:max_lens[0]] for itm in src_arr]\n",
    "    trg_arr = [itm[:max_lens[1]] for itm in trg_arr]\n",
    "\n",
    "    src_arr = [\n",
    "        itm[:-1] + [vocab2id['<pad>']]*(1+src_max_lens-len(itm))\n",
    "        for itm in src_arr\n",
    "    ]\n",
    "    trg_input_arr = [\n",
    "        itm[:-1] + [vocab2id['<pad>']]*(1+trg_max_lens-len(itm))\n",
    "        for itm in trg_arr\n",
    "    ]\n",
    "    trg_output_arr = [\n",
    "        itm[1:] + [vocab2id['<pad>']]*(1+trg_max_lens-len(itm))\n",
    "        for itm in trg_arr\n",
    "    ]\n",
    "    \n",
    "    src_var = Variable(torch.LongTensor(src_arr))\n",
    "    trg_input_var = Variable(torch.LongTensor(trg_input_arr))\n",
    "    trg_output_var = Variable(torch.LongTensor(trg_output_arr))\n",
    "    \n",
    "    return src_var, trg_input_var, trg_output_var\n",
    "\n",
    "process_minibatch(100, vocab2id)"
   ]
  },
  {
   "cell_type": "code",
   "execution_count": 25,
   "metadata": {},
   "outputs": [
    {
     "name": "stdout",
     "output_type": "stream",
     "text": [
      " woman portrayed as a teen in 'the sound of music ' has died \n",
      " agathe von trapp was oldest daughter of family portrayed in the `` the sound of music '' .  'she was nothing at all like the liesl character , ' her friend says .  four von trapp children surviv .\n"
     ]
    }
   ],
   "source": [
    "fp = open('../sum_data/cnn_abs.txt')\n",
    "len = 0\n",
    "for line in fp:\n",
    "    arr = re.split('<sec>', line[:-1])\n",
    "    print arr[0]\n",
    "    print arr[1]\n",
    "    break\n",
    "fp.close()"
   ]
  },
  {
   "cell_type": "code",
   "execution_count": null,
   "metadata": {},
   "outputs": [],
   "source": []
  }
 ],
 "metadata": {
  "kernelspec": {
   "display_name": "Python 2",
   "language": "python",
   "name": "python2"
  },
  "language_info": {
   "codemirror_mode": {
    "name": "ipython",
    "version": 2
   },
   "file_extension": ".py",
   "mimetype": "text/x-python",
   "name": "python",
   "nbconvert_exporter": "python",
   "pygments_lexer": "ipython2",
   "version": "2.7.12"
  }
 },
 "nbformat": 4,
 "nbformat_minor": 2
}
