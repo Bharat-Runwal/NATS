{
 "cells": [
  {
   "cell_type": "code",
   "execution_count": 126,
   "metadata": {},
   "outputs": [],
   "source": [
    "import os\n",
    "import re\n",
    "import glob\n",
    "import shutil\n",
    "\n",
    "import torch\n",
    "from torch.autograd import Variable"
   ]
  },
  {
   "cell_type": "code",
   "execution_count": 127,
   "metadata": {},
   "outputs": [
    {
     "name": "stdout",
     "output_type": "stream",
     "text": [
      "50000\n"
     ]
    }
   ],
   "source": [
    "def construct_vocab(file_, max_size=200000, mincount=5):\n",
    "    vocab2id = {'<s>': 0, '</s>': 1, '<pad>': 2, '<unk>': 3}\n",
    "    id2vocab = {0: '<s>', 1: '</s>', 2: '<pad>', 3: '<unk>'}\n",
    "    word_pad = {'<s>': 0, '</s>': 1, '<pad>': 2, '<unk>': 3}\n",
    "    \n",
    "    cnt = 4\n",
    "    with open(file_, 'r') as fp:\n",
    "        for line in fp:\n",
    "            arr = re.split('\\s', line[:-1])\n",
    "            if arr[0] == ' ':\n",
    "                continue\n",
    "            if arr[0] in word_pad:\n",
    "                continue\n",
    "            if int(arr[1]) >= mincount:\n",
    "                vocab2id[arr[0]] = cnt\n",
    "                id2vocab[cnt] = arr[0]\n",
    "                cnt += 1\n",
    "            if len(vocab2id) == max_size:\n",
    "                break\n",
    "    \n",
    "    return vocab2id, id2vocab\n",
    "\n",
    "vocab2id, id2vocab = construct_vocab('../sum_data/vocab', max_size=50000)\n",
    "print len(vocab2id)"
   ]
  },
  {
   "cell_type": "code",
   "execution_count": 128,
   "metadata": {},
   "outputs": [
    {
     "data": {
      "text/plain": [
       "17952"
      ]
     },
     "execution_count": 128,
     "metadata": {},
     "output_type": "execute_result"
    }
   ],
   "source": [
    "def create_batch_file(path_, file_, batch_size, clean=False):\n",
    "    file_name = os.path.join(path_, file_)\n",
    "    folder = os.path.join(path_, 'batch_folder'+str(batch_size))\n",
    "    fkey = 'batch_'\n",
    "    \n",
    "    if os.path.exists(folder):\n",
    "        batch_files = glob.glob(os.path.join(folder, fkey+'*'))\n",
    "        if len(batch_files) > 0 and clean==False:\n",
    "            return len(batch_files)\n",
    "    \n",
    "    try:\n",
    "        shutil.rmtree(folder)\n",
    "        os.mkdir(folder)\n",
    "    except:\n",
    "        os.mkdir(folder)\n",
    "    \n",
    "    fp = open(file_name, 'r')\n",
    "    cnt = 0\n",
    "    for line in fp:\n",
    "        try:\n",
    "            arr.append(line)\n",
    "        except:\n",
    "            arr = []\n",
    "        if len(arr) == batch_size:\n",
    "            fout = open(os.path.join(folder, fkey+str(cnt)), 'w')\n",
    "            for itm in arr:\n",
    "                fout.write(itm)\n",
    "            fout.close()\n",
    "            arr = []\n",
    "            cnt += 1\n",
    "    \n",
    "    fout = open(os.path.join(folder, fkey+str(cnt)), 'w')\n",
    "    for itm in arr:\n",
    "        fout.write(itm)\n",
    "    fout.close()\n",
    "    arr = []\n",
    "    cnt += 1\n",
    "    fp.close()\n",
    "    \n",
    "    return cnt\n",
    "\n",
    "create_batch_file('../sum_data', 'train.txt', batch_size=16)"
   ]
  },
  {
   "cell_type": "code",
   "execution_count": 129,
   "metadata": {},
   "outputs": [
    {
     "data": {
      "text/plain": [
       "(Variable containing:\n",
       "    207      6    263  ...     377     33      2\n",
       "  10407      6   4107  ...    3776      9      2\n",
       "   4098      6    822  ...       8   1733      2\n",
       "         ...            ⋱           ...         \n",
       "     55    127     53  ...      56   2441      2\n",
       "    612     55    127  ...      30     48      2\n",
       "   1372      6    753  ...       2      2      2\n",
       " [torch.LongTensor of size 64x400], Variable containing:\n",
       "      0   1334   5750  ...       2      2      2\n",
       "      0     69     24  ...       2      2      2\n",
       "      0    326   9775  ...       2      2      2\n",
       "         ...            ⋱           ...         \n",
       "      0     69     24  ...       2      2      2\n",
       "      0    448     24  ...       2      2      2\n",
       "      0    142    738  ...       2      2      2\n",
       " [torch.LongTensor of size 64x74], Variable containing:\n",
       "   1334   5750    412  ...       2      2      2\n",
       "     69     24     36  ...       2      2      2\n",
       "    326   9775     22  ...       2      2      2\n",
       "         ...            ⋱           ...         \n",
       "     69     24    305  ...       2      2      2\n",
       "    448     24   1290  ...       2      2      2\n",
       "    142    738    966  ...       2      2      2\n",
       " [torch.LongTensor of size 64x74])"
      ]
     },
     "execution_count": 129,
     "metadata": {},
     "output_type": "execute_result"
    }
   ],
   "source": [
    "def process_minibatch(batch_id, path_, batch_size, vocab2id, max_lens=[400, 100]):\n",
    "    \n",
    "    folder = os.path.join(path_, 'batch_folder'+str(batch_size))\n",
    "    fkey = 'batch_'\n",
    "    file_ = folder + '/' + fkey + str(batch_id)\n",
    "    fp = open(file_, 'r')\n",
    "    src_arr = []\n",
    "    trg_arr = []\n",
    "    src_lens = []\n",
    "    trg_lens = []\n",
    "    for line in fp:\n",
    "        arr = re.split('<sec>', line[:-1])\n",
    "        dabs = re.split('\\s', arr[0])\n",
    "        dabs = filter(None, dabs)\n",
    "        trg_lens.append(len(dabs))\n",
    "        \n",
    "        dabs2id = [\n",
    "            vocab2id[wd] if wd in vocab2id\n",
    "            else vocab2id['<unk>']\n",
    "            for wd in dabs\n",
    "        ]\n",
    "        trg_arr.append(dabs2id)\n",
    "                \n",
    "        dart = re.split('\\s', arr[1])\n",
    "        dart = filter(None, dart)\n",
    "        src_lens.append(len(dart))\n",
    "        dart2id = [\n",
    "            vocab2id[wd] if wd in vocab2id\n",
    "            else vocab2id['<unk>']\n",
    "            for wd in dart\n",
    "        ]\n",
    "        src_arr.append(dart2id)\n",
    "    fp.close()\n",
    "    \n",
    "    src_max_lens = max(src_lens) \n",
    "    if max_lens[0] < max(src_lens):\n",
    "        src_max_lens = max_lens[0]\n",
    "    trg_max_lens = max(trg_lens)\n",
    "    if max_lens[1] < max(trg_lens):\n",
    "        trg_max_lens = max(trg_lens)\n",
    "            \n",
    "    src_arr = [itm[:src_max_lens] for itm in src_arr]\n",
    "    trg_arr = [itm[:trg_max_lens] for itm in trg_arr]\n",
    "\n",
    "    src_arr = [\n",
    "        itm[:-1] + [vocab2id['<pad>']]*(1+src_max_lens-len(itm))\n",
    "        for itm in src_arr\n",
    "    ]\n",
    "    trg_input_arr = [\n",
    "        itm[:-1] + [vocab2id['<pad>']]*(1+trg_max_lens-len(itm))\n",
    "        for itm in trg_arr\n",
    "    ]\n",
    "    trg_output_arr = [\n",
    "        itm[1:] + [vocab2id['<pad>']]*(1+trg_max_lens-len(itm))\n",
    "        for itm in trg_arr\n",
    "    ]\n",
    "    \n",
    "    src_var = Variable(torch.LongTensor(src_arr))\n",
    "    trg_input_var = Variable(torch.LongTensor(trg_input_arr))\n",
    "    trg_output_var = Variable(torch.LongTensor(trg_output_arr))\n",
    "    \n",
    "    return src_var, trg_input_var, trg_output_var\n",
    "\n",
    "process_minibatch(0, '../sum_data', 64, vocab2id)"
   ]
  },
  {
   "cell_type": "code",
   "execution_count": null,
   "metadata": {},
   "outputs": [],
   "source": []
  }
 ],
 "metadata": {
  "kernelspec": {
   "display_name": "Python 2",
   "language": "python",
   "name": "python2"
  },
  "language_info": {
   "codemirror_mode": {
    "name": "ipython",
    "version": 2
   },
   "file_extension": ".py",
   "mimetype": "text/x-python",
   "name": "python",
   "nbconvert_exporter": "python",
   "pygments_lexer": "ipython2",
   "version": "2.7.12"
  }
 },
 "nbformat": 4,
 "nbformat_minor": 2
}
