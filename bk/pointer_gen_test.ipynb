{
 "cells": [
  {
   "cell_type": "code",
   "execution_count": 89,
   "metadata": {},
   "outputs": [
    {
     "name": "stdout",
     "output_type": "stream",
     "text": [
      "\n",
      "(0 ,.,.) = \n",
      "  0  0  0  0\n",
      "  0  0  0  0\n",
      "  0  0  0  0\n",
      "\n",
      "(1 ,.,.) = \n",
      "  0  0  0  0\n",
      "  0  0  0  0\n",
      "  0  0  0  0\n",
      "[torch.FloatTensor of size 2x3x4]\n",
      "\n",
      "\n",
      "(0 ,.,.) = \n",
      "  0.1271  0.5105\n",
      "  0.3308  0.0528\n",
      "  0.7774  0.4113\n",
      "\n",
      "(1 ,.,.) = \n",
      "  0.2788  0.0487\n",
      "  0.7760  0.2817\n",
      "  0.2980  0.1540\n",
      "[torch.FloatTensor of size 2x3x2]\n",
      "\n",
      "\n",
      " 0  2\n",
      " 0  0\n",
      "[torch.LongTensor of size 2x2]\n",
      "\n",
      "\n",
      "(0 ,.,.) = \n",
      "  0\n",
      "  2\n",
      "\n",
      "(1 ,.,.) = \n",
      "  0\n",
      "  0\n",
      "[torch.LongTensor of size 2x2x1]\n",
      "\n",
      "\n",
      "(0 ,.,.) = \n",
      "  0  0  0  0\n",
      "  0  0  0  0\n",
      "\n",
      "(1 ,.,.) = \n",
      "  0  0  0  0\n",
      "  0  0  0  0\n",
      "[torch.FloatTensor of size 2x2x4]\n",
      "\n",
      "\n",
      "(0 ,.,.) = \n",
      "  1  0  0  0\n",
      "  0  0  1  0\n",
      "\n",
      "(1 ,.,.) = \n",
      "  1  0  0  0\n",
      "  1  0  0  0\n",
      "[torch.FloatTensor of size 2x2x4]\n",
      "\n"
     ]
    }
   ],
   "source": [
    "import torch\n",
    "\n",
    "y = torch.zeros(2, 3, 4)\n",
    "z = torch.rand(2, 3, 2)\n",
    "\n",
    "idx = torch.LongTensor(2, 2).zero_()\n",
    "idx[0, 1] = 2\n",
    "\n",
    "print y\n",
    "print z\n",
    "print idx\n",
    "\n",
    "print idx.unsqueeze(2)\n",
    "yhot = torch.FloatTensor(2, 2, 4).zero_()\n",
    "print yhot\n",
    "yhot = yhot.scatter_(2, idx.unsqueeze(2), 1.0)\n",
    "print yhot"
   ]
  },
  {
   "cell_type": "code",
   "execution_count": 90,
   "metadata": {},
   "outputs": [
    {
     "name": "stdout",
     "output_type": "stream",
     "text": [
      "\n",
      "(0 ,.,.) = \n",
      "  0.1271  0.5105\n",
      "  0.3308  0.0528\n",
      "  0.7774  0.4113\n",
      "\n",
      "(1 ,.,.) = \n",
      "  0.2788  0.0487\n",
      "  0.7760  0.2817\n",
      "  0.2980  0.1540\n",
      "[torch.FloatTensor of size 2x3x2]\n",
      "\n",
      "\n",
      "(0 ,.,.) = \n",
      "  0.1271  0.0000  0.5105  0.0000\n",
      "  0.3308  0.0000  0.0528  0.0000\n",
      "  0.7774  0.0000  0.4113  0.0000\n",
      "\n",
      "(1 ,.,.) = \n",
      "  0.3275  0.0000  0.0000  0.0000\n",
      "  1.0578  0.0000  0.0000  0.0000\n",
      "  0.4521  0.0000  0.0000  0.0000\n",
      "[torch.FloatTensor of size 2x3x4]\n",
      "\n"
     ]
    }
   ],
   "source": [
    "print z\n",
    "print torch.bmm(z, yhot)"
   ]
  },
  {
   "cell_type": "code",
   "execution_count": 95,
   "metadata": {},
   "outputs": [
    {
     "name": "stdout",
     "output_type": "stream",
     "text": [
      "\n",
      "(0 ,.,.) = \n",
      "  1  1  1  1\n",
      "  1  1  1  1\n",
      "  1  1  1  1\n",
      "\n",
      "(1 ,.,.) = \n",
      "  1  1  1  1\n",
      "  1  1  1  1\n",
      "  1  1  1  1\n",
      "[torch.FloatTensor of size 2x3x4]\n",
      "\n",
      "\n",
      "(0 ,.,.) = \n",
      "  0.0517\n",
      "  0.2451\n",
      "  0.8806\n",
      "\n",
      "(1 ,.,.) = \n",
      "  0.4232\n",
      "  0.0519\n",
      "  0.0667\n",
      "[torch.FloatTensor of size 2x3x1]\n",
      "\n",
      "\n",
      "(0 ,.,.) = \n",
      "  0.0517  0.0517  0.0517  0.0517\n",
      "  0.2451  0.2451  0.2451  0.2451\n",
      "  0.8806  0.8806  0.8806  0.8806\n",
      "\n",
      "(1 ,.,.) = \n",
      "  0.4232  0.4232  0.4232  0.4232\n",
      "  0.0519  0.0519  0.0519  0.0519\n",
      "  0.0667  0.0667  0.0667  0.0667\n",
      "[torch.FloatTensor of size 2x3x4]\n",
      "\n"
     ]
    }
   ],
   "source": [
    "y = torch.ones(2, 3, 4)\n",
    "z = torch.rand(2, 3, 1)\n",
    "\n",
    "print y\n",
    "print z\n",
    "print y*z"
   ]
  },
  {
   "cell_type": "code",
   "execution_count": null,
   "metadata": {},
   "outputs": [],
   "source": []
  }
 ],
 "metadata": {
  "kernelspec": {
   "display_name": "Python 2",
   "language": "python",
   "name": "python2"
  },
  "language_info": {
   "codemirror_mode": {
    "name": "ipython",
    "version": 2
   },
   "file_extension": ".py",
   "mimetype": "text/x-python",
   "name": "python",
   "nbconvert_exporter": "python",
   "pygments_lexer": "ipython2",
   "version": "2.7.12"
  }
 },
 "nbformat": 4,
 "nbformat_minor": 2
}
