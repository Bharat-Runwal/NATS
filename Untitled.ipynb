{
 "cells": [
  {
   "cell_type": "code",
   "execution_count": 1,
   "metadata": {},
   "outputs": [
    {
     "name": "stdout",
     "output_type": "stream",
     "text": [
      "Variable containing:\n",
      "(0 ,.,.) = \n",
      "  0  0  0\n",
      "  0  0  0\n",
      "  0  0  0\n",
      "\n",
      "(1 ,.,.) = \n",
      "  0  0  0\n",
      "  0  0  0\n",
      "  0  0  0\n",
      "[torch.FloatTensor of size 2x3x3]\n",
      "\n",
      "Variable containing:\n",
      "(0 ,.,.) = \n",
      "  1\n",
      "  1\n",
      "  1\n",
      "\n",
      "(1 ,.,.) = \n",
      "  1\n",
      "  1\n",
      "  1\n",
      "[torch.FloatTensor of size 2x3x1]\n",
      "\n",
      "Variable containing:\n",
      "(0 ,.,.) = \n",
      "  1  1  1\n",
      "  1  1  1\n",
      "  1  1  1\n",
      "\n",
      "(1 ,.,.) = \n",
      "  1  1  1\n",
      "  1  1  1\n",
      "  1  1  1\n",
      "[torch.FloatTensor of size 2x3x3]\n",
      "\n"
     ]
    }
   ],
   "source": [
    "import torch\n",
    "from torch.autograd import Variable\n",
    "aa = Variable(torch.zeros(2, 3, 3))\n",
    "bb = Variable(torch.ones(2, 3, 1))\n",
    "print aa\n",
    "print bb\n",
    "print aa+bb"
   ]
  },
  {
   "cell_type": "code",
   "execution_count": null,
   "metadata": {},
   "outputs": [],
   "source": []
  }
 ],
 "metadata": {
  "kernelspec": {
   "display_name": "Python 2",
   "language": "python",
   "name": "python2"
  },
  "language_info": {
   "codemirror_mode": {
    "name": "ipython",
    "version": 2
   },
   "file_extension": ".py",
   "mimetype": "text/x-python",
   "name": "python",
   "nbconvert_exporter": "python",
   "pygments_lexer": "ipython2",
   "version": "2.7.12"
  }
 },
 "nbformat": 4,
 "nbformat_minor": 2
}
