{
 "cells": [
  {
   "cell_type": "code",
   "execution_count": 1,
   "metadata": {},
   "outputs": [],
   "source": [
    "from rouge import Rouge"
   ]
  },
  {
   "cell_type": "code",
   "execution_count": 10,
   "metadata": {},
   "outputs": [
    {
     "name": "stdout",
     "output_type": "stream",
     "text": [
      "[{'rouge-l': {'p': 0.4, 'r': 0.4, 'f': 0.39999999999950003}, 'rouge-2': {'p': 0.25, 'r': 0.25, 'f': 0.24999999500000009}, 'rouge-1': {'p': 0.4, 'r': 0.5, 'f': 0.4444444395061729}}]\n"
     ]
    }
   ],
   "source": [
    "hypothesis = \"I like apple go go\"\n",
    "\n",
    "reference = \"we buy apple go juice\"\n",
    "\n",
    "rouge = Rouge()\n",
    "scores = rouge.get_scores(reference, hypothesis)\n",
    "print scores"
   ]
  },
  {
   "cell_type": "code",
   "execution_count": null,
   "metadata": {},
   "outputs": [],
   "source": []
  }
 ],
 "metadata": {
  "kernelspec": {
   "display_name": "Python 2",
   "language": "python",
   "name": "python2"
  },
  "language_info": {
   "codemirror_mode": {
    "name": "ipython",
    "version": 2
   },
   "file_extension": ".py",
   "mimetype": "text/x-python",
   "name": "python",
   "nbconvert_exporter": "python",
   "pygments_lexer": "ipython2",
   "version": "2.7.12"
  }
 },
 "nbformat": 4,
 "nbformat_minor": 2
}
