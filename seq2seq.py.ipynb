{
 "cells": [
  {
   "cell_type": "code",
   "execution_count": 5,
   "metadata": {},
   "outputs": [],
   "source": [
    "import re\n",
    "import numpy as np\n",
    "import argparse\n",
    "\n",
    "import torch"
   ]
  },
  {
   "cell_type": "code",
   "execution_count": null,
   "metadata": {},
   "outputs": [],
   "source": [
    "# utils.py\n"
   ]
  },
  {
   "cell_type": "code",
   "execution_count": 14,
   "metadata": {},
   "outputs": [],
   "source": [
    "class RNNencoder(torch.nn.Module):\n",
    "    def __init__(self):\n",
    "        super(RNNencoder, self).__init__()\n",
    "        \n",
    "        \n",
    "    def forward(self):\n",
    "        return\n",
    "    \n",
    "    def init_hidden(self):\n",
    "        return"
   ]
  },
  {
   "cell_type": "code",
   "execution_count": null,
   "metadata": {},
   "outputs": [],
   "source": [
    "class Attention(torch.nn.Module):\n",
    "    def __init__(self):\n",
    "        super(Attention, self).__init__()\n",
    "        \n",
    "    def forward(self):\n",
    "        \n",
    "        return\n",
    "    \n",
    "    def score(self):\n",
    "        \n",
    "        return"
   ]
  },
  {
   "cell_type": "code",
   "execution_count": 13,
   "metadata": {},
   "outputs": [],
   "source": [
    "class RNNdecoder(torch.nn.Module):\n",
    "    def __init__(self):\n",
    "        super(RNNdecoder, self).__init__()\n",
    "        \n",
    "    def forward(self):\n",
    "        \n",
    "        return"
   ]
  },
  {
   "cell_type": "code",
   "execution_count": 15,
   "metadata": {},
   "outputs": [],
   "source": [
    "# seq2seq.py\n",
    "class seq2seq(torch.nn.Module):\n",
    "    '''\n",
    "    Sequence to Sequence model implementation\n",
    "    '''\n",
    "    def __init__(self):\n",
    "        super(seq2seq, self).__init__()\n",
    "        \n",
    "    def encode(self):\n",
    "        \n",
    "        return\n",
    "    \n",
    "    def decode(self):\n",
    "        \n",
    "        return\n",
    "    \n",
    "    def forward(self):\n",
    "        \n",
    "        return\n",
    "        "
   ]
  },
  {
   "cell_type": "code",
   "execution_count": 16,
   "metadata": {},
   "outputs": [],
   "source": [
    "model = seq2seq()"
   ]
  },
  {
   "cell_type": "code",
   "execution_count": null,
   "metadata": {},
   "outputs": [],
   "source": []
  }
 ],
 "metadata": {
  "kernelspec": {
   "display_name": "Python 2",
   "language": "python",
   "name": "python2"
  },
  "language_info": {
   "codemirror_mode": {
    "name": "ipython",
    "version": 2
   },
   "file_extension": ".py",
   "mimetype": "text/x-python",
   "name": "python",
   "nbconvert_exporter": "python",
   "pygments_lexer": "ipython2",
   "version": "2.7.12"
  }
 },
 "nbformat": 4,
 "nbformat_minor": 2
}
