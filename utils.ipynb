{
 "cells": [
  {
   "cell_type": "code",
   "execution_count": null,
   "metadata": {},
   "outputs": [
    {
     "name": "stdout",
     "output_type": "stream",
     "text": [
      "The vocabulary size: 80475\n",
      "The number of batches: 924\n"
     ]
    }
   ],
   "source": [
    "import argparse\n",
    "import shutil\n",
    "\n",
    "import torch\n",
    "from torch.autograd import Variable\n",
    "\n",
    "from seq2seq import *\n",
    "from utils import *\n",
    "\n",
    "data_dir = '../sum_data/'\n",
    "file_vocab = 'cnn_vocab.txt'\n",
    "file_corpus = 'cnn.txt'\n",
    "n_epoch = 1\n",
    "batch_size = 10\n",
    "src_len = 100\n",
    "trg_len = 10\n",
    "\n",
    "vocab2id, id2vocab = construct_vocab(data_dir+'/'+file_vocab)\n",
    "print 'The vocabulary size: {0}'.format(len(vocab2id))\n",
    "\n",
    "n_batch = create_batch_file(file_name='../sum_data/cnn.txt', batch_size=batch_size)\n",
    "print 'The number of batches: {0}'.format(n_batch)\n",
    "\n",
    "model = seq2seq(\n",
    "    src_emb_dim=100,\n",
    "    trg_emb_dim=100,\n",
    "    src_hidden_dim=25,\n",
    "    trg_hidden_dim=50,\n",
    "    src_vocab_size=len(vocab2id),\n",
    "    trg_vocab_size=len(vocab2id),\n",
    "    src_pad_token=0,\n",
    "    trg_pad_token=0,\n",
    "    src_nlayer=2,\n",
    "    trg_nlayer=1,\n",
    "    src_bidirect=True,\n",
    "    batch_size=batch_size,\n",
    "    dropout=0.0\n",
    ").cuda()\n",
    "\n",
    "for epoch in range(n_epoch):\n",
    "    for batch_id in range(n_batch):\n",
    "        trg_var, src_var = process_minibatch(\n",
    "            batch_id, \n",
    "            vocab2id, \n",
    "            max_len=[trg_len, src_len]\n",
    "        )\n",
    "        print model(src_var.cuda(), trg_var.cuda())\n",
    "        break\n",
    "        \n",
    "shutil.rmtree('batch_folder')"
   ]
  },
  {
   "cell_type": "code",
   "execution_count": null,
   "metadata": {},
   "outputs": [],
   "source": []
  }
 ],
 "metadata": {
  "kernelspec": {
   "display_name": "Python 2",
   "language": "python",
   "name": "python2"
  },
  "language_info": {
   "codemirror_mode": {
    "name": "ipython",
    "version": 2
   },
   "file_extension": ".py",
   "mimetype": "text/x-python",
   "name": "python",
   "nbconvert_exporter": "python",
   "pygments_lexer": "ipython2",
   "version": "2.7.12"
  }
 },
 "nbformat": 4,
 "nbformat_minor": 2
}
